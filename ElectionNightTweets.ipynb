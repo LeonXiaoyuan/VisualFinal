{
 "cells": [
  {
   "cell_type": "code",
   "execution_count": 1,
   "metadata": {
    "collapsed": false
   },
   "outputs": [],
   "source": [
    "#this is a program to populate all the comments' sentiment score and save the result back to database\n",
    "import pandas as pd\n",
    "workDirectory=\"/Users/haiyanliang/Downloads/\"    \n",
    "import codecs    \n",
    "import io\n",
    "import json \n"
   ]
  },
  {
   "cell_type": "code",
   "execution_count": 2,
   "metadata": {
    "collapsed": false
   },
   "outputs": [],
   "source": [
    "#populate facebook post comment's sentiment    \n",
    "def populate_twitter_comments(fileName):\n",
    "    fullFileName=workDirectory+fileName\n",
    "    print 'processing the twitter data....'\n",
    "    statuses = []\n",
    "    with codecs.open(fullFileName,'rU','utf-8') as f:\n",
    "        for line in f:\n",
    "            statuses.append(json.loads(line))\n",
    "    df =pd.DataFrame(data=statuses)        \n",
    "    return df"
   ]
  },
  {
   "cell_type": "code",
   "execution_count": null,
   "metadata": {
    "collapsed": true
   },
   "outputs": [],
   "source": []
  },
  {
   "cell_type": "code",
   "execution_count": 3,
   "metadata": {
    "collapsed": false
   },
   "outputs": [
    {
     "name": "stdout",
     "output_type": "stream",
     "text": [
      "processing the twitter data....\n",
      "        contributors coordinates                      created_at  \\\n",
      "0                NaN        None  Tue Nov 08 21:15:39 +0000 2016   \n",
      "1                NaN        None  Tue Nov 08 21:15:39 +0000 2016   \n",
      "2                NaN        None  Tue Nov 08 21:15:39 +0000 2016   \n",
      "3                NaN        None  Tue Nov 08 21:15:39 +0000 2016   \n",
      "4                NaN        None  Tue Nov 08 21:15:39 +0000 2016   \n",
      "5                NaN        None  Tue Nov 08 21:15:39 +0000 2016   \n",
      "6                NaN        None  Tue Nov 08 21:15:39 +0000 2016   \n",
      "7                NaN        None  Tue Nov 08 21:15:39 +0000 2016   \n",
      "8                NaN        None  Tue Nov 08 21:15:39 +0000 2016   \n",
      "9                NaN        None  Tue Nov 08 21:15:39 +0000 2016   \n",
      "10               NaN        None  Tue Nov 08 21:15:39 +0000 2016   \n",
      "11               NaN        None  Tue Nov 08 21:15:39 +0000 2016   \n",
      "12               NaN        None  Tue Nov 08 21:15:39 +0000 2016   \n",
      "13               NaN        None  Tue Nov 08 21:15:39 +0000 2016   \n",
      "14               NaN        None  Tue Nov 08 21:15:39 +0000 2016   \n",
      "15               NaN        None  Tue Nov 08 21:15:39 +0000 2016   \n",
      "16               NaN        None  Tue Nov 08 21:15:39 +0000 2016   \n",
      "17               NaN        None  Tue Nov 08 21:15:39 +0000 2016   \n",
      "18               NaN        None  Tue Nov 08 21:15:39 +0000 2016   \n",
      "19               NaN        None  Tue Nov 08 21:15:39 +0000 2016   \n",
      "20               NaN        None  Tue Nov 08 21:15:39 +0000 2016   \n",
      "21               NaN        None  Tue Nov 08 21:15:39 +0000 2016   \n",
      "22               NaN        None  Tue Nov 08 21:15:39 +0000 2016   \n",
      "23               NaN        None  Tue Nov 08 21:15:39 +0000 2016   \n",
      "24               NaN        None  Tue Nov 08 21:15:39 +0000 2016   \n",
      "25               NaN        None  Tue Nov 08 21:15:39 +0000 2016   \n",
      "26               NaN        None  Tue Nov 08 21:15:39 +0000 2016   \n",
      "27               NaN        None  Tue Nov 08 21:15:39 +0000 2016   \n",
      "28               NaN        None  Tue Nov 08 21:15:39 +0000 2016   \n",
      "29               NaN        None  Tue Nov 08 21:15:39 +0000 2016   \n",
      "...              ...         ...                             ...   \n",
      "206496           NaN        None  Wed Nov 09 06:47:31 +0000 2016   \n",
      "206497           NaN        None  Wed Nov 09 06:47:30 +0000 2016   \n",
      "206498           NaN        None  Wed Nov 09 06:47:26 +0000 2016   \n",
      "206499           NaN        None  Wed Nov 09 06:47:31 +0000 2016   \n",
      "206500           NaN        None  Wed Nov 09 06:47:29 +0000 2016   \n",
      "206501           NaN        None  Wed Nov 09 06:47:31 +0000 2016   \n",
      "206502           NaN        None  Wed Nov 09 06:47:30 +0000 2016   \n",
      "206503           NaN        None  Wed Nov 09 06:47:31 +0000 2016   \n",
      "206504           NaN        None  Wed Nov 09 06:47:30 +0000 2016   \n",
      "206505           NaN        None  Wed Nov 09 06:47:26 +0000 2016   \n",
      "206506           NaN        None  Wed Nov 09 06:47:29 +0000 2016   \n",
      "206507           NaN        None  Wed Nov 09 06:47:31 +0000 2016   \n",
      "206508           NaN        None  Wed Nov 09 06:47:26 +0000 2016   \n",
      "206509           NaN        None  Wed Nov 09 06:47:26 +0000 2016   \n",
      "206510           NaN        None  Wed Nov 09 06:47:29 +0000 2016   \n",
      "206511           NaN        None  Wed Nov 09 06:47:31 +0000 2016   \n",
      "206512           NaN         NaN                             NaN   \n",
      "206513           NaN        None  Wed Nov 09 06:47:32 +0000 2016   \n",
      "206514           NaN        None  Wed Nov 09 06:47:30 +0000 2016   \n",
      "206515           NaN        None  Wed Nov 09 06:47:30 +0000 2016   \n",
      "206516           NaN        None  Wed Nov 09 06:47:29 +0000 2016   \n",
      "206517           NaN        None  Wed Nov 09 06:47:32 +0000 2016   \n",
      "206518           NaN        None  Wed Nov 09 06:47:26 +0000 2016   \n",
      "206519           NaN        None  Wed Nov 09 06:47:32 +0000 2016   \n",
      "206520           NaN        None  Wed Nov 09 06:47:30 +0000 2016   \n",
      "206521           NaN        None  Wed Nov 09 06:47:26 +0000 2016   \n",
      "206522           NaN         NaN                             NaN   \n",
      "206523           NaN        None  Wed Nov 09 06:47:29 +0000 2016   \n",
      "206524           NaN        None  Wed Nov 09 06:47:30 +0000 2016   \n",
      "206525           NaN        None  Wed Nov 09 06:47:27 +0000 2016   \n",
      "\n",
      "       display_text_range                                           entities  \\\n",
      "0                     NaN  {u'user_mentions': [{u'id': 5392522, u'indices...   \n",
      "1                     NaN  {u'user_mentions': [{u'id': 335972576, u'indic...   \n",
      "2                     NaN  {u'user_mentions': [{u'id': 1337235289, u'indi...   \n",
      "3                     NaN  {u'user_mentions': [{u'id': 9376622, u'indices...   \n",
      "4                     NaN  {u'user_mentions': [{u'id': 909448512, u'indic...   \n",
      "5                [11, 66]  {u'user_mentions': [{u'id': 27067705, u'indice...   \n",
      "6                     NaN  {u'user_mentions': [{u'id': 25073877, u'indice...   \n",
      "7                     NaN  {u'user_mentions': [{u'id': 205543088, u'indic...   \n",
      "8                     NaN  {u'user_mentions': [{u'id': 432895323, u'indic...   \n",
      "9                     NaN  {u'user_mentions': [{u'id': 432895323, u'indic...   \n",
      "10                    NaN  {u'user_mentions': [{u'id': 14980820, u'indice...   \n",
      "11                    NaN  {u'user_mentions': [{u'id': 586659811, u'indic...   \n",
      "12                    NaN  {u'user_mentions': [{u'id': 768878542868340736...   \n",
      "13                    NaN  {u'user_mentions': [{u'id': 1290550819, u'indi...   \n",
      "14                    NaN  {u'user_mentions': [{u'id': 961117496, u'indic...   \n",
      "15                    NaN  {u'user_mentions': [], u'symbols': [], u'hasht...   \n",
      "16                    NaN  {u'user_mentions': [{u'id': 105119490, u'indic...   \n",
      "17                    NaN  {u'user_mentions': [{u'id': 136004952, u'indic...   \n",
      "18                    NaN  {u'user_mentions': [{u'id': 26581267, u'indice...   \n",
      "19                    NaN  {u'user_mentions': [{u'id': 25073877, u'indice...   \n",
      "20                [0, 55]  {u'user_mentions': [], u'symbols': [], u'hasht...   \n",
      "21                    NaN  {u'user_mentions': [{u'id': 302256741, u'indic...   \n",
      "22                    NaN  {u'user_mentions': [{u'id': 339690481, u'indic...   \n",
      "23                [0, 35]  {u'user_mentions': [], u'symbols': [], u'hasht...   \n",
      "24                    NaN  {u'user_mentions': [{u'id': 3968744956, u'indi...   \n",
      "25                    NaN  {u'user_mentions': [{u'id': 4378414456, u'indi...   \n",
      "26                    NaN  {u'user_mentions': [{u'id': 864431, u'indices'...   \n",
      "27                    NaN  {u'user_mentions': [{u'id': 18391051, u'indice...   \n",
      "28               [6, 106]  {u'user_mentions': [{u'id': 48100887, u'indice...   \n",
      "29                    NaN  {u'user_mentions': [{u'id': 18983793, u'indice...   \n",
      "...                   ...                                                ...   \n",
      "206496                NaN  {u'user_mentions': [{u'id': 580312540, u'indic...   \n",
      "206497                NaN  {u'user_mentions': [], u'symbols': [], u'hasht...   \n",
      "206498                NaN  {u'user_mentions': [{u'id': 62022464, u'indice...   \n",
      "206499                NaN  {u'user_mentions': [{u'id': 166592696, u'indic...   \n",
      "206500                NaN  {u'user_mentions': [{u'id': 1031387947, u'indi...   \n",
      "206501                NaN  {u'user_mentions': [{u'id': 187275647, u'indic...   \n",
      "206502                NaN  {u'user_mentions': [{u'id': 328040224, u'indic...   \n",
      "206503            [0, 13]  {u'user_mentions': [{u'id': 81923270, u'indice...   \n",
      "206504                NaN  {u'user_mentions': [{u'id': 3154800273, u'indi...   \n",
      "206505                NaN  {u'user_mentions': [{u'id': 1428160202, u'indi...   \n",
      "206506                NaN  {u'user_mentions': [{u'id': 254283518, u'indic...   \n",
      "206507                NaN  {u'user_mentions': [{u'id': 1419522133, u'indi...   \n",
      "206508                NaN  {u'user_mentions': [{u'id': 801901182, u'indic...   \n",
      "206509                NaN  {u'user_mentions': [{u'id': 280661955, u'indic...   \n",
      "206510                NaN  {u'user_mentions': [{u'id': 1428160202, u'indi...   \n",
      "206511                NaN  {u'user_mentions': [{u'id': 14669951, u'indice...   \n",
      "206512                NaN                                                NaN   \n",
      "206513                NaN  {u'user_mentions': [], u'symbols': [], u'hasht...   \n",
      "206514                NaN  {u'user_mentions': [{u'id': 15976697, u'indice...   \n",
      "206515                NaN  {u'user_mentions': [], u'symbols': [], u'hasht...   \n",
      "206516                NaN  {u'user_mentions': [], u'symbols': [], u'hasht...   \n",
      "206517                NaN  {u'user_mentions': [{u'id': 32303391, u'indice...   \n",
      "206518                NaN  {u'user_mentions': [{u'id': 587676806, u'indic...   \n",
      "206519                NaN  {u'user_mentions': [], u'symbols': [], u'hasht...   \n",
      "206520                NaN  {u'user_mentions': [{u'id': 4432916014, u'indi...   \n",
      "206521                NaN  {u'user_mentions': [{u'id': 445578675, u'indic...   \n",
      "206522                NaN                                                NaN   \n",
      "206523                NaN  {u'user_mentions': [{u'id': 254283518, u'indic...   \n",
      "206524                NaN  {u'user_mentions': [{u'id': 1626294277, u'indi...   \n",
      "206525                NaN  {u'user_mentions': [{u'id': 110489772, u'indic...   \n",
      "\n",
      "                                        extended_entities extended_tweet  \\\n",
      "0                                                     NaN            NaN   \n",
      "1                                                     NaN            NaN   \n",
      "2       {u'media': [{u'source_user_id': 1337235289, u'...            NaN   \n",
      "3                                                     NaN            NaN   \n",
      "4                                                     NaN            NaN   \n",
      "5                                                     NaN            NaN   \n",
      "6                                                     NaN            NaN   \n",
      "7                                                     NaN            NaN   \n",
      "8                                                     NaN            NaN   \n",
      "9                                                     NaN            NaN   \n",
      "10                                                    NaN            NaN   \n",
      "11                                                    NaN            NaN   \n",
      "12                                                    NaN            NaN   \n",
      "13      {u'media': [{u'source_user_id': 1290550819, u'...            NaN   \n",
      "14                                                    NaN            NaN   \n",
      "15                                                    NaN            NaN   \n",
      "16                                                    NaN            NaN   \n",
      "17                                                    NaN            NaN   \n",
      "18                                                    NaN            NaN   \n",
      "19                                                    NaN            NaN   \n",
      "20      {u'media': [{u'expanded_url': u'https://twitte...            NaN   \n",
      "21      {u'media': [{u'source_user_id': 302256741, u's...            NaN   \n",
      "22                                                    NaN            NaN   \n",
      "23                                                    NaN            NaN   \n",
      "24                                                    NaN            NaN   \n",
      "25      {u'media': [{u'source_user_id': 4378414456, u'...            NaN   \n",
      "26                                                    NaN            NaN   \n",
      "27      {u'media': [{u'source_user_id': 18391051, u'so...            NaN   \n",
      "28                                                    NaN            NaN   \n",
      "29                                                    NaN            NaN   \n",
      "...                                                   ...            ...   \n",
      "206496                                                NaN            NaN   \n",
      "206497                                                NaN            NaN   \n",
      "206498                                                NaN            NaN   \n",
      "206499                                                NaN            NaN   \n",
      "206500  {u'media': [{u'source_user_id': 1031387947, u'...            NaN   \n",
      "206501                                                NaN            NaN   \n",
      "206502                                                NaN            NaN   \n",
      "206503                                                NaN            NaN   \n",
      "206504                                                NaN            NaN   \n",
      "206505                                                NaN            NaN   \n",
      "206506                                                NaN            NaN   \n",
      "206507                                                NaN            NaN   \n",
      "206508                                                NaN            NaN   \n",
      "206509                                                NaN            NaN   \n",
      "206510                                                NaN            NaN   \n",
      "206511                                                NaN            NaN   \n",
      "206512                                                NaN            NaN   \n",
      "206513                                                NaN            NaN   \n",
      "206514                                                NaN            NaN   \n",
      "206515                                                NaN            NaN   \n",
      "206516                                                NaN            NaN   \n",
      "206517                                                NaN            NaN   \n",
      "206518                                                NaN            NaN   \n",
      "206519                                                NaN            NaN   \n",
      "206520                                                NaN            NaN   \n",
      "206521                                                NaN            NaN   \n",
      "206522                                                NaN            NaN   \n",
      "206523                                                NaN            NaN   \n",
      "206524                                                NaN            NaN   \n",
      "206525                                                NaN            NaN   \n",
      "\n",
      "        favorite_count favorited filter_level          ...           \\\n",
      "0                    0     False          low          ...            \n",
      "1                    0     False          low          ...            \n",
      "2                    0     False          low          ...            \n",
      "3                    0     False          low          ...            \n",
      "4                    0     False          low          ...            \n",
      "5                    0     False          low          ...            \n",
      "6                    0     False          low          ...            \n",
      "7                    0     False          low          ...            \n",
      "8                    0     False          low          ...            \n",
      "9                    0     False          low          ...            \n",
      "10                   0     False          low          ...            \n",
      "11                   0     False          low          ...            \n",
      "12                   0     False          low          ...            \n",
      "13                   0     False          low          ...            \n",
      "14                   0     False          low          ...            \n",
      "15                   0     False          low          ...            \n",
      "16                   0     False          low          ...            \n",
      "17                   0     False          low          ...            \n",
      "18                   0     False          low          ...            \n",
      "19                   0     False          low          ...            \n",
      "20                   0     False          low          ...            \n",
      "21                   0     False          low          ...            \n",
      "22                   0     False          low          ...            \n",
      "23                   0     False          low          ...            \n",
      "24                   0     False          low          ...            \n",
      "25                   0     False          low          ...            \n",
      "26                   0     False          low          ...            \n",
      "27                   0     False          low          ...            \n",
      "28                   0     False          low          ...            \n",
      "29                   0     False          low          ...            \n",
      "...                ...       ...          ...          ...            \n",
      "206496               0     False          low          ...            \n",
      "206497               0     False          low          ...            \n",
      "206498               0     False          low          ...            \n",
      "206499               0     False          low          ...            \n",
      "206500               0     False          low          ...            \n",
      "206501               0     False          low          ...            \n",
      "206502               0     False          low          ...            \n",
      "206503               0     False          low          ...            \n",
      "206504               0     False          low          ...            \n",
      "206505               0     False          low          ...            \n",
      "206506               0     False          low          ...            \n",
      "206507               0     False          low          ...            \n",
      "206508               0     False          low          ...            \n",
      "206509               0     False          low          ...            \n",
      "206510               0     False          low          ...            \n",
      "206511               0     False          low          ...            \n",
      "206512             NaN       NaN          NaN          ...            \n",
      "206513               0     False          low          ...            \n",
      "206514               0     False          low          ...            \n",
      "206515               0     False          low          ...            \n",
      "206516               0     False          low          ...            \n",
      "206517               0     False          low          ...            \n",
      "206518               0     False          low          ...            \n",
      "206519               0     False          low          ...            \n",
      "206520               0     False          low          ...            \n",
      "206521               0     False          low          ...            \n",
      "206522             NaN       NaN          NaN          ...            \n",
      "206523               0     False          low          ...            \n",
      "206524               0     False          low          ...            \n",
      "206525               0     False          low          ...            \n",
      "\n",
      "       quoted_status_id_str  retweet_count retweeted  \\\n",
      "0                       NaN              0     False   \n",
      "1                       NaN              0     False   \n",
      "2                       NaN              0     False   \n",
      "3        796083855899791360              0     False   \n",
      "4                       NaN              0     False   \n",
      "5                       NaN              0     False   \n",
      "6                       NaN              0     False   \n",
      "7                       NaN              0     False   \n",
      "8                       NaN              0     False   \n",
      "9                       NaN              0     False   \n",
      "10                      NaN              0     False   \n",
      "11                      NaN              0     False   \n",
      "12                      NaN              0     False   \n",
      "13                      NaN              0     False   \n",
      "14                      NaN              0     False   \n",
      "15                      NaN              0     False   \n",
      "16                      NaN              0     False   \n",
      "17       796030494823612416              0     False   \n",
      "18       796010681078317056              0     False   \n",
      "19                      NaN              0     False   \n",
      "20                      NaN              0     False   \n",
      "21                      NaN              0     False   \n",
      "22                      NaN              0     False   \n",
      "23       796066744695656448              0     False   \n",
      "24       796098237526638592              0     False   \n",
      "25                      NaN              0     False   \n",
      "26                      NaN              0     False   \n",
      "27                      NaN              0     False   \n",
      "28                      NaN              0     False   \n",
      "29                      NaN              0     False   \n",
      "...                     ...            ...       ...   \n",
      "206496                  NaN              0     False   \n",
      "206497                  NaN              0     False   \n",
      "206498                  NaN              0     False   \n",
      "206499                  NaN              0     False   \n",
      "206500                  NaN              0     False   \n",
      "206501                  NaN              0     False   \n",
      "206502   796202099306418177              0     False   \n",
      "206503   796158400610451456              0     False   \n",
      "206504                  NaN              0     False   \n",
      "206505   796223526529355776              0     False   \n",
      "206506                  NaN              0     False   \n",
      "206507                  NaN              0     False   \n",
      "206508                  NaN              0     False   \n",
      "206509                  NaN              0     False   \n",
      "206510   796223526529355776              0     False   \n",
      "206511                  NaN              0     False   \n",
      "206512                  NaN            NaN       NaN   \n",
      "206513                  NaN              0     False   \n",
      "206514   796171362519879681              0     False   \n",
      "206515                  NaN              0     False   \n",
      "206516                  NaN              0     False   \n",
      "206517                  NaN              0     False   \n",
      "206518                  NaN              0     False   \n",
      "206519                  NaN              0     False   \n",
      "206520                  NaN              0     False   \n",
      "206521                  NaN              0     False   \n",
      "206522                  NaN            NaN       NaN   \n",
      "206523                  NaN              0     False   \n",
      "206524                  NaN              0     False   \n",
      "206525                  NaN              0     False   \n",
      "\n",
      "                                         retweeted_status  \\\n",
      "0       {u'contributors': None, u'truncated': False, u...   \n",
      "1       {u'contributors': None, u'truncated': False, u...   \n",
      "2       {u'contributors': None, u'truncated': False, u...   \n",
      "3       {u'contributors': None, u'truncated': False, u...   \n",
      "4       {u'contributors': None, u'truncated': True, u'...   \n",
      "5                                                     NaN   \n",
      "6                                                     NaN   \n",
      "7       {u'contributors': None, u'truncated': False, u...   \n",
      "8       {u'contributors': None, u'truncated': False, u...   \n",
      "9       {u'contributors': None, u'truncated': False, u...   \n",
      "10                                                    NaN   \n",
      "11      {u'contributors': None, u'truncated': False, u...   \n",
      "12      {u'contributors': None, u'truncated': False, u...   \n",
      "13      {u'contributors': None, u'truncated': False, u...   \n",
      "14      {u'contributors': None, u'truncated': False, u...   \n",
      "15                                                    NaN   \n",
      "16      {u'contributors': None, u'truncated': False, u...   \n",
      "17      {u'contributors': None, u'truncated': True, u'...   \n",
      "18      {u'contributors': None, u'truncated': True, u'...   \n",
      "19      {u'contributors': None, u'truncated': True, u'...   \n",
      "20                                                    NaN   \n",
      "21      {u'contributors': None, u'truncated': False, u...   \n",
      "22      {u'contributors': None, u'truncated': False, u...   \n",
      "23                                                    NaN   \n",
      "24      {u'contributors': None, u'truncated': False, u...   \n",
      "25      {u'contributors': None, u'truncated': False, u...   \n",
      "26      {u'contributors': None, u'truncated': False, u...   \n",
      "27      {u'contributors': None, u'truncated': False, u...   \n",
      "28                                                    NaN   \n",
      "29      {u'contributors': None, u'truncated': False, u...   \n",
      "...                                                   ...   \n",
      "206496  {u'contributors': None, u'truncated': False, u...   \n",
      "206497                                                NaN   \n",
      "206498  {u'contributors': None, u'truncated': False, u...   \n",
      "206499  {u'contributors': None, u'truncated': False, u...   \n",
      "206500  {u'contributors': None, u'truncated': False, u...   \n",
      "206501  {u'contributors': None, u'truncated': False, u...   \n",
      "206502  {u'contributors': None, u'truncated': False, u...   \n",
      "206503                                                NaN   \n",
      "206504  {u'contributors': None, u'truncated': True, u'...   \n",
      "206505  {u'contributors': None, u'truncated': True, u'...   \n",
      "206506  {u'contributors': None, u'truncated': True, u'...   \n",
      "206507  {u'contributors': None, u'truncated': False, u...   \n",
      "206508  {u'contributors': None, u'truncated': False, u...   \n",
      "206509  {u'contributors': None, u'truncated': False, u...   \n",
      "206510  {u'contributors': None, u'truncated': True, u'...   \n",
      "206511  {u'contributors': None, u'truncated': False, u...   \n",
      "206512                                                NaN   \n",
      "206513                                                NaN   \n",
      "206514  {u'contributors': None, u'truncated': True, u'...   \n",
      "206515                                                NaN   \n",
      "206516                                                NaN   \n",
      "206517  {u'contributors': None, u'truncated': False, u...   \n",
      "206518  {u'contributors': None, u'truncated': True, u'...   \n",
      "206519                                                NaN   \n",
      "206520  {u'contributors': None, u'truncated': False, u...   \n",
      "206521  {u'contributors': None, u'truncated': False, u...   \n",
      "206522                                                NaN   \n",
      "206523  {u'contributors': None, u'truncated': True, u'...   \n",
      "206524  {u'contributors': None, u'truncated': False, u...   \n",
      "206525  {u'contributors': None, u'truncated': False, u...   \n",
      "\n",
      "                                                   source  \\\n",
      "0       <a href=\"https://about.twitter.com/products/tw...   \n",
      "1       <a href=\"http://twitter.com/download/iphone\" r...   \n",
      "2       <a href=\"http://twitter.com\" rel=\"nofollow\">Tw...   \n",
      "3       <a href=\"http://twitter.com\" rel=\"nofollow\">Tw...   \n",
      "4       <a href=\"http://twitter.com\" rel=\"nofollow\">Tw...   \n",
      "5       <a href=\"http://twitter.com\" rel=\"nofollow\">Tw...   \n",
      "6       <a href=\"http://twitter.com\" rel=\"nofollow\">Tw...   \n",
      "7       <a href=\"http://twitter.com/download/iphone\" r...   \n",
      "8       <a href=\"https://mobile.twitter.com\" rel=\"nofo...   \n",
      "9       <a href=\"http://twitter.com/download/iphone\" r...   \n",
      "10      <a href=\"http://twitter.com/download/iphone\" r...   \n",
      "11      <a href=\"http://twitter.com/download/iphone\" r...   \n",
      "12      <a href=\"http://twitter.com/download/android\" ...   \n",
      "13      <a href=\"http://twitter.com/download/android\" ...   \n",
      "14      <a href=\"http://twitter.com\" rel=\"nofollow\">Tw...   \n",
      "15      <a href=\"http://twitter.com/download/iphone\" r...   \n",
      "16      <a href=\"http://twitter.com/download/android\" ...   \n",
      "17      <a href=\"http://twitter.com\" rel=\"nofollow\">Tw...   \n",
      "18      <a href=\"http://twitter.com/download/iphone\" r...   \n",
      "19      <a href=\"http://twitter.com/download/iphone\" r...   \n",
      "20      <a href=\"http://twitter.com/download/iphone\" r...   \n",
      "21      <a href=\"http://twitter.com/download/android\" ...   \n",
      "22      <a href=\"http://twitter.com/download/iphone\" r...   \n",
      "23      <a href=\"http://twitter.com\" rel=\"nofollow\">Tw...   \n",
      "24      <a href=\"http://twitter.com/#!/download/ipad\" ...   \n",
      "25      <a href=\"http://twitter.com/download/iphone\" r...   \n",
      "26      <a href=\"http://twitter.com/download/iphone\" r...   \n",
      "27      <a href=\"http://twitter.com/download/iphone\" r...   \n",
      "28      <a href=\"http://twitter.com/download/android\" ...   \n",
      "29      <a href=\"http://twitter.com/download/iphone\" r...   \n",
      "...                                                   ...   \n",
      "206496  <a href=\"http://twitter.com\" rel=\"nofollow\">Tw...   \n",
      "206497  <a href=\"http://twitter.com/download/iphone\" r...   \n",
      "206498  <a href=\"http://twitter.com/#!/download/ipad\" ...   \n",
      "206499  <a href=\"http://twitter.com/download/iphone\" r...   \n",
      "206500  <a href=\"http://twitter.com/download/iphone\" r...   \n",
      "206501  <a href=\"http://twitter.com/download/android\" ...   \n",
      "206502  <a href=\"http://twitter.com/download/iphone\" r...   \n",
      "206503  <a href=\"http://twitter.com\" rel=\"nofollow\">Tw...   \n",
      "206504  <a href=\"http://twitter.com/download/iphone\" r...   \n",
      "206505  <a href=\"http://twitter.com/download/iphone\" r...   \n",
      "206506  <a href=\"https://about.twitter.com/products/tw...   \n",
      "206507  <a href=\"http://twitter.com/download/iphone\" r...   \n",
      "206508  <a href=\"http://twitter.com/download/iphone\" r...   \n",
      "206509  <a href=\"http://twitter.com\" rel=\"nofollow\">Tw...   \n",
      "206510  <a href=\"https://about.twitter.com/products/tw...   \n",
      "206511  <a href=\"http://twitter.com\" rel=\"nofollow\">Tw...   \n",
      "206512                                                NaN   \n",
      "206513  <a href=\"http://twitter.com/download/android\" ...   \n",
      "206514  <a href=\"http://twitter.com/download/iphone\" r...   \n",
      "206515  <a href=\"http://twitter.com/download/iphone\" r...   \n",
      "206516  <a href=\"http://twitter.com/download/iphone\" r...   \n",
      "206517  <a href=\"http://twitter.com/download/android\" ...   \n",
      "206518  <a href=\"http://twitter.com/download/iphone\" r...   \n",
      "206519  <a href=\"http://twitter.com/download/iphone\" r...   \n",
      "206520  <a href=\"http://twitter.com/#!/download/ipad\" ...   \n",
      "206521  <a href=\"http://twitter.com/download/android\" ...   \n",
      "206522                                                NaN   \n",
      "206523  <a href=\"https://about.twitter.com/products/tw...   \n",
      "206524  <a href=\"http://twitter.com/download/iphone\" r...   \n",
      "206525  <a href=\"http://twitter.com/download/iphone\" r...   \n",
      "\n",
      "                                                     text   timestamp_ms  \\\n",
      "0       RT @NPR: We hear you, America. No more ‘I Vote...  1478639739349   \n",
      "1       RT @OccupyWallStNYC: Shame on the #Texas GOP f...  1478639739334   \n",
      "2       RT @campneil: Trump!! I voted!! https://t.co/G...  1478639739398   \n",
      "3       RT @tkinder: Chuck Norris: Clinton presidency ...  1478639739459   \n",
      "4       RT @AnitaDWhite: ⚡️Polls are OPEN,Have U✅yet? ...  1478639739487   \n",
      "5       @PhillyGOP #ElectionDay\\n\\nMore voter intimida...  1478639739449   \n",
      "6       in at least some respect, today will be a vict...  1478639739516   \n",
      "7       RT @danlybarger: All kidding aside, watch @AVA...  1478639739557   \n",
      "8       RT @LindseyGrahamSC: I voted @Evan_McMullin fo...  1478639739508   \n",
      "9       RT @LindseyGrahamSC: I voted @Evan_McMullin fo...  1478639739385   \n",
      "10      I just told @nbcwashington who I think is winn...  1478639739500   \n",
      "11      RT @_carolineotoole: If you vote Trump tomorro...  1478639739540   \n",
      "12      RT @Lena3Forrest3: @SarahHuckabee @sleepygramy...  1478639739534   \n",
      "13      RT @EiProfeta: Elecciones de EEUU. #ElectionDa...  1478639739519   \n",
      "14      RT @AbramDuhalt: Espero que los estadounidense...  1478639739524   \n",
      "15           A la minerva si gana Mi Donald! #ElectionDay  1478639739577   \n",
      "16      RT @NiallOfficial: Wish I could vote today .. ...  1478639739547   \n",
      "17      RT @afneil: We have Cameron, Osborne, Gove + J...  1478639739483   \n",
      "18      RT @aadelsonESPN: Major props to Coastal Carol...  1478639739298   \n",
      "19      RT @realDonaldTrump: We need your vote. Go to ...  1478639739656   \n",
      "20      Family First #ElectionDay Exercise your right ...  1478639739225   \n",
      "21      RT @IrisDrx: À l'intérieur bureau de vote Harl...  1478639739564   \n",
      "22      RT @AFLCIONextUp: RT if you have voted! If not...  1478639739611   \n",
      "23      Much better head-on, in my opinion. https://t....  1478639739489   \n",
      "24      RT @Juli4Trump: #MN #NM #NH #NV #CT #NC #AZ Go...  1478639739492   \n",
      "25      RT @karii2x: #ElectionDay2016 Every Vote Count...  1478639739618   \n",
      "26      RT @SAPTechEd: At 8 PM CET, watch the six fina...  1478639739405   \n",
      "27      RT @6abc: RT if you voted! #ElectionDay https:...  1478639739571   \n",
      "28      @Andy when you're a citizen they let you do it...  1478639739636   \n",
      "29      RT @ShannonBream: 2 Electoral College voters n...  1478639739675   \n",
      "...                                                   ...            ...   \n",
      "206496  RT @girlsreallyrule: Anyone else feel like the...  1478674051632   \n",
      "206497                                  GG #ElectionNight  1478674050648   \n",
      "206498  RT @massimomarini: L'analfabetismo culturale d...  1478674046735   \n",
      "206499  RT @AiKirei: I hope Trump ruins all these mfs ...  1478674051660   \n",
      "206500  RT @Tuffa7aShawkat: #ElectionNight https://t.c...  1478674049500   \n",
      "206501  RT @JustinLaboy: This election is a real shot ...  1478674051786   \n",
      "206502  RT @prime_bee: Fuck all 66% of them https://t....  1478674050611   \n",
      "206503              @Realest__101 https://t.co/VCzdnj7bH2  1478674051705   \n",
      "206504  RT @koitonic: &gt;\"I voted third party/didn't ...  1478674050592   \n",
      "206505  RT @thealmighty_o: Every Trump supporter voted...  1478674046565   \n",
      "206506  RT @RihannaAmerica: #LOTBStreamingParty\\n📱iTu...  1478674049617   \n",
      "206507  RT @peachpixxie: full offense fuck everyone wh...  1478674051721   \n",
      "206508  RT @bunpril: i'm honestly annoyed that people ...  1478674046630   \n",
      "206509  RT @TamaraJanelle: Can the rest of the world #...  1478674046728   \n",
      "206510  RT @thealmighty_o: Every Trump supporter voted...  1478674049465   \n",
      "206511  RT @DRUDGE_REPORT: VA Gov gives 60,000 felons ...  1478674051745   \n",
      "206512                                                NaN            NaN   \n",
      "206513  #VRT gaat het nooit leren. #HetJournaal is  we...  1478674052663   \n",
      "206514  RT @michellemalkin: So these are the cretins w...  1478674050597   \n",
      "206515  The vote was clearly not for #Trump but agains...  1478674050699   \n",
      "206516  Confermata la tendenza degli americani ad eleg...  1478674049606   \n",
      "206517  RT @KarimyScreamy: Why is everyone afraid of w...  1478674052665   \n",
      "206518  RT @MCmuckraker: Detroit Free Press called ele...  1478674046679   \n",
      "206519  If trump wins my vote meant nothing my grandpa...  1478674052545   \n",
      "206520  RT @PpollingNumbers: BREAKING NEWS!!!\\n\\nTrump...  1478674050613   \n",
      "206521  RT @Mr_Marzo: Si alguien podía hacerlo, era Es...  1478674046731   \n",
      "206522                                                NaN            NaN   \n",
      "206523  RT @RihannaAmerica: #LOTBStreamingParty\\n📱iTu...  1478674049611   \n",
      "206524  RT @intlspectator: BREAKING: Donald Trump will...  1478674050700   \n",
      "206525  RT @SCHIZOPHRENICC: Racism won, Sexism won, Bi...  1478674047666   \n",
      "\n",
      "       truncated                                               user  \\\n",
      "0          False  {u'follow_request_sent': None, u'profile_use_b...   \n",
      "1          False  {u'follow_request_sent': None, u'profile_use_b...   \n",
      "2          False  {u'follow_request_sent': None, u'profile_use_b...   \n",
      "3          False  {u'follow_request_sent': None, u'profile_use_b...   \n",
      "4          False  {u'follow_request_sent': None, u'profile_use_b...   \n",
      "5          False  {u'follow_request_sent': None, u'profile_use_b...   \n",
      "6          False  {u'follow_request_sent': None, u'profile_use_b...   \n",
      "7          False  {u'follow_request_sent': None, u'profile_use_b...   \n",
      "8          False  {u'follow_request_sent': None, u'profile_use_b...   \n",
      "9          False  {u'follow_request_sent': None, u'profile_use_b...   \n",
      "10         False  {u'follow_request_sent': None, u'profile_use_b...   \n",
      "11         False  {u'follow_request_sent': None, u'profile_use_b...   \n",
      "12         False  {u'follow_request_sent': None, u'profile_use_b...   \n",
      "13         False  {u'follow_request_sent': None, u'profile_use_b...   \n",
      "14         False  {u'follow_request_sent': None, u'profile_use_b...   \n",
      "15         False  {u'follow_request_sent': None, u'profile_use_b...   \n",
      "16         False  {u'follow_request_sent': None, u'profile_use_b...   \n",
      "17         False  {u'follow_request_sent': None, u'profile_use_b...   \n",
      "18         False  {u'follow_request_sent': None, u'profile_use_b...   \n",
      "19         False  {u'follow_request_sent': None, u'profile_use_b...   \n",
      "20         False  {u'follow_request_sent': None, u'profile_use_b...   \n",
      "21         False  {u'follow_request_sent': None, u'profile_use_b...   \n",
      "22         False  {u'follow_request_sent': None, u'profile_use_b...   \n",
      "23         False  {u'follow_request_sent': None, u'profile_use_b...   \n",
      "24         False  {u'follow_request_sent': None, u'profile_use_b...   \n",
      "25         False  {u'follow_request_sent': None, u'profile_use_b...   \n",
      "26         False  {u'follow_request_sent': None, u'profile_use_b...   \n",
      "27         False  {u'follow_request_sent': None, u'profile_use_b...   \n",
      "28         False  {u'follow_request_sent': None, u'profile_use_b...   \n",
      "29         False  {u'follow_request_sent': None, u'profile_use_b...   \n",
      "...          ...                                                ...   \n",
      "206496     False  {u'follow_request_sent': None, u'profile_use_b...   \n",
      "206497     False  {u'follow_request_sent': None, u'profile_use_b...   \n",
      "206498     False  {u'follow_request_sent': None, u'profile_use_b...   \n",
      "206499     False  {u'follow_request_sent': None, u'profile_use_b...   \n",
      "206500     False  {u'follow_request_sent': None, u'profile_use_b...   \n",
      "206501     False  {u'follow_request_sent': None, u'profile_use_b...   \n",
      "206502     False  {u'follow_request_sent': None, u'profile_use_b...   \n",
      "206503     False  {u'follow_request_sent': None, u'profile_use_b...   \n",
      "206504     False  {u'follow_request_sent': None, u'profile_use_b...   \n",
      "206505     False  {u'follow_request_sent': None, u'profile_use_b...   \n",
      "206506     False  {u'follow_request_sent': None, u'profile_use_b...   \n",
      "206507     False  {u'follow_request_sent': None, u'profile_use_b...   \n",
      "206508     False  {u'follow_request_sent': None, u'profile_use_b...   \n",
      "206509     False  {u'follow_request_sent': None, u'profile_use_b...   \n",
      "206510     False  {u'follow_request_sent': None, u'profile_use_b...   \n",
      "206511     False  {u'follow_request_sent': None, u'profile_use_b...   \n",
      "206512       NaN                                                NaN   \n",
      "206513     False  {u'follow_request_sent': None, u'profile_use_b...   \n",
      "206514     False  {u'follow_request_sent': None, u'profile_use_b...   \n",
      "206515     False  {u'follow_request_sent': None, u'profile_use_b...   \n",
      "206516     False  {u'follow_request_sent': None, u'profile_use_b...   \n",
      "206517     False  {u'follow_request_sent': None, u'profile_use_b...   \n",
      "206518     False  {u'follow_request_sent': None, u'profile_use_b...   \n",
      "206519     False  {u'follow_request_sent': None, u'profile_use_b...   \n",
      "206520     False  {u'follow_request_sent': None, u'profile_use_b...   \n",
      "206521     False  {u'follow_request_sent': None, u'profile_use_b...   \n",
      "206522       NaN                                                NaN   \n",
      "206523     False  {u'follow_request_sent': None, u'profile_use_b...   \n",
      "206524     False  {u'follow_request_sent': None, u'profile_use_b...   \n",
      "206525     False  {u'follow_request_sent': None, u'profile_use_b...   \n",
      "\n",
      "       withheld_in_countries  \n",
      "0                        NaN  \n",
      "1                        NaN  \n",
      "2                        NaN  \n",
      "3                        NaN  \n",
      "4                        NaN  \n",
      "5                        NaN  \n",
      "6                        NaN  \n",
      "7                        NaN  \n",
      "8                        NaN  \n",
      "9                        NaN  \n",
      "10                       NaN  \n",
      "11                       NaN  \n",
      "12                       NaN  \n",
      "13                       NaN  \n",
      "14                       NaN  \n",
      "15                       NaN  \n",
      "16                       NaN  \n",
      "17                       NaN  \n",
      "18                       NaN  \n",
      "19                       NaN  \n",
      "20                       NaN  \n",
      "21                       NaN  \n",
      "22                       NaN  \n",
      "23                       NaN  \n",
      "24                       NaN  \n",
      "25                       NaN  \n",
      "26                       NaN  \n",
      "27                       NaN  \n",
      "28                       NaN  \n",
      "29                       NaN  \n",
      "...                      ...  \n",
      "206496                   NaN  \n",
      "206497                   NaN  \n",
      "206498                   NaN  \n",
      "206499                   NaN  \n",
      "206500                   NaN  \n",
      "206501                   NaN  \n",
      "206502                   NaN  \n",
      "206503                   NaN  \n",
      "206504                   NaN  \n",
      "206505                   NaN  \n",
      "206506                   NaN  \n",
      "206507                   NaN  \n",
      "206508                   NaN  \n",
      "206509                   NaN  \n",
      "206510                   NaN  \n",
      "206511                   NaN  \n",
      "206512                   NaN  \n",
      "206513                   NaN  \n",
      "206514                   NaN  \n",
      "206515                   NaN  \n",
      "206516                   NaN  \n",
      "206517                   NaN  \n",
      "206518                   NaN  \n",
      "206519                   NaN  \n",
      "206520                   NaN  \n",
      "206521                   NaN  \n",
      "206522                   NaN  \n",
      "206523                   NaN  \n",
      "206524                   NaN  \n",
      "206525                   NaN  \n",
      "\n",
      "[206526 rows x 35 columns]\n"
     ]
    }
   ],
   "source": [
    "df_all_tweets=populate_twitter_comments(\"data.json\")\n",
    "df_all_tweets.head()\n",
    "print df_all_tweets"
   ]
  },
  {
   "cell_type": "code",
   "execution_count": 4,
   "metadata": {
    "collapsed": false
   },
   "outputs": [
    {
     "name": "stdout",
     "output_type": "stream",
     "text": [
      "Total Tweets retrieved: 206526\n"
     ]
    }
   ],
   "source": [
    "print \"Total Tweets retrieved:\", df_all_tweets.shape[0]\n",
    "\n"
   ]
  },
  {
   "cell_type": "code",
   "execution_count": 5,
   "metadata": {
    "collapsed": false
   },
   "outputs": [
    {
     "name": "stdout",
     "output_type": "stream",
     "text": [
      "   contributors coordinates                      created_at  \\\n",
      "0           NaN        None  Tue Nov 08 21:15:39 +0000 2016   \n",
      "1           NaN        None  Tue Nov 08 21:15:39 +0000 2016   \n",
      "2           NaN        None  Tue Nov 08 21:15:39 +0000 2016   \n",
      "3           NaN        None  Tue Nov 08 21:15:39 +0000 2016   \n",
      "4           NaN        None  Tue Nov 08 21:15:39 +0000 2016   \n",
      "\n",
      "  display_text_range                                           entities  \\\n",
      "0                NaN  {u'user_mentions': [{u'id': 5392522, u'indices...   \n",
      "1                NaN  {u'user_mentions': [{u'id': 335972576, u'indic...   \n",
      "2                NaN  {u'user_mentions': [{u'id': 1337235289, u'indi...   \n",
      "3                NaN  {u'user_mentions': [{u'id': 9376622, u'indices...   \n",
      "4                NaN  {u'user_mentions': [{u'id': 909448512, u'indic...   \n",
      "\n",
      "                                   extended_entities extended_tweet  \\\n",
      "0                                                NaN            NaN   \n",
      "1                                                NaN            NaN   \n",
      "2  {u'media': [{u'source_user_id': 1337235289, u'...            NaN   \n",
      "3                                                NaN            NaN   \n",
      "4                                                NaN            NaN   \n",
      "\n",
      "   favorite_count favorited filter_level          ...           \\\n",
      "0               0     False          low          ...            \n",
      "1               0     False          low          ...            \n",
      "2               0     False          low          ...            \n",
      "3               0     False          low          ...            \n",
      "4               0     False          low          ...            \n",
      "\n",
      "  quoted_status_id_str  retweet_count retweeted  \\\n",
      "0                  NaN              0     False   \n",
      "1                  NaN              0     False   \n",
      "2                  NaN              0     False   \n",
      "3   796083855899791360              0     False   \n",
      "4                  NaN              0     False   \n",
      "\n",
      "                                    retweeted_status  \\\n",
      "0  {u'contributors': None, u'truncated': False, u...   \n",
      "1  {u'contributors': None, u'truncated': False, u...   \n",
      "2  {u'contributors': None, u'truncated': False, u...   \n",
      "3  {u'contributors': None, u'truncated': False, u...   \n",
      "4  {u'contributors': None, u'truncated': True, u'...   \n",
      "\n",
      "                                              source  \\\n",
      "0  <a href=\"https://about.twitter.com/products/tw...   \n",
      "1  <a href=\"http://twitter.com/download/iphone\" r...   \n",
      "2  <a href=\"http://twitter.com\" rel=\"nofollow\">Tw...   \n",
      "3  <a href=\"http://twitter.com\" rel=\"nofollow\">Tw...   \n",
      "4  <a href=\"http://twitter.com\" rel=\"nofollow\">Tw...   \n",
      "\n",
      "                                                text   timestamp_ms truncated  \\\n",
      "0  RT @NPR: We hear you, America. No more ‘I Vote...  1478639739349     False   \n",
      "1  RT @OccupyWallStNYC: Shame on the #Texas GOP f...  1478639739334     False   \n",
      "2  RT @campneil: Trump!! I voted!! https://t.co/G...  1478639739398     False   \n",
      "3  RT @tkinder: Chuck Norris: Clinton presidency ...  1478639739459     False   \n",
      "4  RT @AnitaDWhite: ⚡️Polls are OPEN,Have U✅yet? ...  1478639739487     False   \n",
      "\n",
      "                                                user withheld_in_countries  \n",
      "0  {u'follow_request_sent': None, u'profile_use_b...                   NaN  \n",
      "1  {u'follow_request_sent': None, u'profile_use_b...                   NaN  \n",
      "2  {u'follow_request_sent': None, u'profile_use_b...                   NaN  \n",
      "3  {u'follow_request_sent': None, u'profile_use_b...                   NaN  \n",
      "4  {u'follow_request_sent': None, u'profile_use_b...                   NaN  \n",
      "\n",
      "[5 rows x 35 columns]\n"
     ]
    }
   ],
   "source": [
    "print df_all_tweets.head()"
   ]
  },
  {
   "cell_type": "code",
   "execution_count": 6,
   "metadata": {
    "collapsed": false
   },
   "outputs": [
    {
     "data": {
      "text/html": [
       "<div>\n",
       "<table border=\"1\" class=\"dataframe\">\n",
       "  <thead>\n",
       "    <tr style=\"text-align: right;\">\n",
       "      <th></th>\n",
       "      <th>created_at</th>\n",
       "      <th>text</th>\n",
       "    </tr>\n",
       "  </thead>\n",
       "  <tbody>\n",
       "    <tr>\n",
       "      <th>0</th>\n",
       "      <td>Tue Nov 08 21:15:39 +0000 2016</td>\n",
       "      <td>RT @NPR: We hear you, America. No more ‘I Vote...</td>\n",
       "    </tr>\n",
       "    <tr>\n",
       "      <th>1</th>\n",
       "      <td>Tue Nov 08 21:15:39 +0000 2016</td>\n",
       "      <td>RT @OccupyWallStNYC: Shame on the #Texas GOP f...</td>\n",
       "    </tr>\n",
       "    <tr>\n",
       "      <th>2</th>\n",
       "      <td>Tue Nov 08 21:15:39 +0000 2016</td>\n",
       "      <td>RT @campneil: Trump!! I voted!! https://t.co/G...</td>\n",
       "    </tr>\n",
       "    <tr>\n",
       "      <th>3</th>\n",
       "      <td>Tue Nov 08 21:15:39 +0000 2016</td>\n",
       "      <td>RT @tkinder: Chuck Norris: Clinton presidency ...</td>\n",
       "    </tr>\n",
       "    <tr>\n",
       "      <th>4</th>\n",
       "      <td>Tue Nov 08 21:15:39 +0000 2016</td>\n",
       "      <td>RT @AnitaDWhite: ⚡️Polls are OPEN,Have U✅yet? ...</td>\n",
       "    </tr>\n",
       "  </tbody>\n",
       "</table>\n",
       "</div>"
      ],
      "text/plain": [
       "                       created_at  \\\n",
       "0  Tue Nov 08 21:15:39 +0000 2016   \n",
       "1  Tue Nov 08 21:15:39 +0000 2016   \n",
       "2  Tue Nov 08 21:15:39 +0000 2016   \n",
       "3  Tue Nov 08 21:15:39 +0000 2016   \n",
       "4  Tue Nov 08 21:15:39 +0000 2016   \n",
       "\n",
       "                                                text  \n",
       "0  RT @NPR: We hear you, America. No more ‘I Vote...  \n",
       "1  RT @OccupyWallStNYC: Shame on the #Texas GOP f...  \n",
       "2  RT @campneil: Trump!! I voted!! https://t.co/G...  \n",
       "3  RT @tkinder: Chuck Norris: Clinton presidency ...  \n",
       "4  RT @AnitaDWhite: ⚡️Polls are OPEN,Have U✅yet? ...  "
      ]
     },
     "execution_count": 6,
     "metadata": {},
     "output_type": "execute_result"
    }
   ],
   "source": [
    "df_text_time=df_all_tweets[['created_at', 'text']]\n",
    "df_text_time.head()\n",
    "  "
   ]
  },
  {
   "cell_type": "code",
   "execution_count": 7,
   "metadata": {
    "collapsed": false
   },
   "outputs": [
    {
     "name": "stdout",
     "output_type": "stream",
     "text": [
      "size of all the text dataframe: 206526\n"
     ]
    }
   ],
   "source": [
    "print 'size of all the text dataframe:', df_text_time.shape[0]"
   ]
  },
  {
   "cell_type": "code",
   "execution_count": 8,
   "metadata": {
    "collapsed": true
   },
   "outputs": [],
   "source": [
    "df_text_time.columns=['created_dt', 'tweet_text']"
   ]
  },
  {
   "cell_type": "code",
   "execution_count": 9,
   "metadata": {
    "collapsed": false
   },
   "outputs": [
    {
     "data": {
      "text/html": [
       "<div>\n",
       "<table border=\"1\" class=\"dataframe\">\n",
       "  <thead>\n",
       "    <tr style=\"text-align: right;\">\n",
       "      <th></th>\n",
       "      <th>created_dt</th>\n",
       "      <th>tweet_text</th>\n",
       "    </tr>\n",
       "  </thead>\n",
       "  <tbody>\n",
       "    <tr>\n",
       "      <th>0</th>\n",
       "      <td>Tue Nov 08 21:15:39 +0000 2016</td>\n",
       "      <td>RT @NPR: We hear you, America. No more ‘I Vote...</td>\n",
       "    </tr>\n",
       "    <tr>\n",
       "      <th>1</th>\n",
       "      <td>Tue Nov 08 21:15:39 +0000 2016</td>\n",
       "      <td>RT @OccupyWallStNYC: Shame on the #Texas GOP f...</td>\n",
       "    </tr>\n",
       "    <tr>\n",
       "      <th>2</th>\n",
       "      <td>Tue Nov 08 21:15:39 +0000 2016</td>\n",
       "      <td>RT @campneil: Trump!! I voted!! https://t.co/G...</td>\n",
       "    </tr>\n",
       "    <tr>\n",
       "      <th>3</th>\n",
       "      <td>Tue Nov 08 21:15:39 +0000 2016</td>\n",
       "      <td>RT @tkinder: Chuck Norris: Clinton presidency ...</td>\n",
       "    </tr>\n",
       "    <tr>\n",
       "      <th>4</th>\n",
       "      <td>Tue Nov 08 21:15:39 +0000 2016</td>\n",
       "      <td>RT @AnitaDWhite: ⚡️Polls are OPEN,Have U✅yet? ...</td>\n",
       "    </tr>\n",
       "  </tbody>\n",
       "</table>\n",
       "</div>"
      ],
      "text/plain": [
       "                       created_dt  \\\n",
       "0  Tue Nov 08 21:15:39 +0000 2016   \n",
       "1  Tue Nov 08 21:15:39 +0000 2016   \n",
       "2  Tue Nov 08 21:15:39 +0000 2016   \n",
       "3  Tue Nov 08 21:15:39 +0000 2016   \n",
       "4  Tue Nov 08 21:15:39 +0000 2016   \n",
       "\n",
       "                                          tweet_text  \n",
       "0  RT @NPR: We hear you, America. No more ‘I Vote...  \n",
       "1  RT @OccupyWallStNYC: Shame on the #Texas GOP f...  \n",
       "2  RT @campneil: Trump!! I voted!! https://t.co/G...  \n",
       "3  RT @tkinder: Chuck Norris: Clinton presidency ...  \n",
       "4  RT @AnitaDWhite: ⚡️Polls are OPEN,Have U✅yet? ...  "
      ]
     },
     "execution_count": 9,
     "metadata": {},
     "output_type": "execute_result"
    }
   ],
   "source": [
    "df_text_time.head()"
   ]
  },
  {
   "cell_type": "code",
   "execution_count": 10,
   "metadata": {
    "collapsed": false
   },
   "outputs": [
    {
     "name": "stderr",
     "output_type": "stream",
     "text": [
      "/Users/haiyanliang/Library/Enthought/Canopy_64bit/User/lib/python2.7/site-packages/IPython/kernel/__main__.py:1: SettingWithCopyWarning: \n",
      "A value is trying to be set on a copy of a slice from a DataFrame.\n",
      "Try using .loc[row_indexer,col_indexer] = value instead\n",
      "\n",
      "See the the caveats in the documentation: http://pandas.pydata.org/pandas-docs/stable/indexing.html#indexing-view-versus-copy\n",
      "  if __name__ == '__main__':\n"
     ]
    }
   ],
   "source": [
    "df_text_time['created_date']=pd.to_datetime(df_text_time['created_dt'])\n"
   ]
  },
  {
   "cell_type": "code",
   "execution_count": 11,
   "metadata": {
    "collapsed": true
   },
   "outputs": [],
   "source": [
    "from datetime import datetime, timedelta\n",
    "def market_time(current_date):\n",
    "    try:\n",
    "        end_date=current_date\n",
    "        end_date_str=end_date.strftime('%Y/%m/%d %H')\n",
    "        end_date=datetime.strptime(end_date_str, '%Y/%m/%d %H')\n",
    "        return end_date\n",
    "        #print datetime.strftime(end_date, '%Y/%m/%d %H:%M' )\n",
    "    except Exception as e:\n",
    "            return current_date      "
   ]
  },
  {
   "cell_type": "code",
   "execution_count": 12,
   "metadata": {
    "collapsed": false
   },
   "outputs": [
    {
     "name": "stdout",
     "output_type": "stream",
     "text": [
      "2016-11-08 21:15:39\n",
      "21\n",
      "2016-11-08 21:00:00\n"
     ]
    }
   ],
   "source": [
    "date_str='2016-11-08 21:15:39'\n",
    "date=datetime.strptime(date_str, '%Y-%m-%d %H:%M:%S' )\n",
    "print date\n",
    "print int(date.strftime('%H'))\n",
    "print market_time(date)"
   ]
  },
  {
   "cell_type": "code",
   "execution_count": 13,
   "metadata": {
    "collapsed": false
   },
   "outputs": [
    {
     "data": {
      "text/plain": [
       "0        2016-11-08 21:15:39\n",
       "1        2016-11-08 21:15:39\n",
       "2        2016-11-08 21:15:39\n",
       "3        2016-11-08 21:15:39\n",
       "4        2016-11-08 21:15:39\n",
       "5        2016-11-08 21:15:39\n",
       "6        2016-11-08 21:15:39\n",
       "7        2016-11-08 21:15:39\n",
       "8        2016-11-08 21:15:39\n",
       "9        2016-11-08 21:15:39\n",
       "10       2016-11-08 21:15:39\n",
       "11       2016-11-08 21:15:39\n",
       "12       2016-11-08 21:15:39\n",
       "13       2016-11-08 21:15:39\n",
       "14       2016-11-08 21:15:39\n",
       "15       2016-11-08 21:15:39\n",
       "16       2016-11-08 21:15:39\n",
       "17       2016-11-08 21:15:39\n",
       "18       2016-11-08 21:15:39\n",
       "19       2016-11-08 21:15:39\n",
       "20       2016-11-08 21:15:39\n",
       "21       2016-11-08 21:15:39\n",
       "22       2016-11-08 21:15:39\n",
       "23       2016-11-08 21:15:39\n",
       "24       2016-11-08 21:15:39\n",
       "25       2016-11-08 21:15:39\n",
       "26       2016-11-08 21:15:39\n",
       "27       2016-11-08 21:15:39\n",
       "28       2016-11-08 21:15:39\n",
       "29       2016-11-08 21:15:39\n",
       "                 ...        \n",
       "206496   2016-11-09 06:47:31\n",
       "206497   2016-11-09 06:47:30\n",
       "206498   2016-11-09 06:47:26\n",
       "206499   2016-11-09 06:47:31\n",
       "206500   2016-11-09 06:47:29\n",
       "206501   2016-11-09 06:47:31\n",
       "206502   2016-11-09 06:47:30\n",
       "206503   2016-11-09 06:47:31\n",
       "206504   2016-11-09 06:47:30\n",
       "206505   2016-11-09 06:47:26\n",
       "206506   2016-11-09 06:47:29\n",
       "206507   2016-11-09 06:47:31\n",
       "206508   2016-11-09 06:47:26\n",
       "206509   2016-11-09 06:47:26\n",
       "206510   2016-11-09 06:47:29\n",
       "206511   2016-11-09 06:47:31\n",
       "206512                   NaT\n",
       "206513   2016-11-09 06:47:32\n",
       "206514   2016-11-09 06:47:30\n",
       "206515   2016-11-09 06:47:30\n",
       "206516   2016-11-09 06:47:29\n",
       "206517   2016-11-09 06:47:32\n",
       "206518   2016-11-09 06:47:26\n",
       "206519   2016-11-09 06:47:32\n",
       "206520   2016-11-09 06:47:30\n",
       "206521   2016-11-09 06:47:26\n",
       "206522                   NaT\n",
       "206523   2016-11-09 06:47:29\n",
       "206524   2016-11-09 06:47:30\n",
       "206525   2016-11-09 06:47:27\n",
       "Name: created_date, dtype: datetime64[ns]"
      ]
     },
     "execution_count": 13,
     "metadata": {},
     "output_type": "execute_result"
    }
   ],
   "source": [
    "df_text_time['created_date']"
   ]
  },
  {
   "cell_type": "code",
   "execution_count": 14,
   "metadata": {
    "collapsed": false
   },
   "outputs": [
    {
     "name": "stderr",
     "output_type": "stream",
     "text": [
      "/Users/haiyanliang/Library/Enthought/Canopy_64bit/User/lib/python2.7/site-packages/IPython/kernel/__main__.py:2: SettingWithCopyWarning: \n",
      "A value is trying to be set on a copy of a slice from a DataFrame.\n",
      "Try using .loc[row_indexer,col_indexer] = value instead\n",
      "\n",
      "See the the caveats in the documentation: http://pandas.pydata.org/pandas-docs/stable/indexing.html#indexing-view-versus-copy\n",
      "  from IPython.kernel.zmq import kernelapp as app\n"
     ]
    }
   ],
   "source": [
    "from datetime import datetime\n",
    "df_text_time['bus_date']=df_text_time['created_date'].apply(lambda x:market_time(x))\n"
   ]
  },
  {
   "cell_type": "code",
   "execution_count": 15,
   "metadata": {
    "collapsed": false
   },
   "outputs": [
    {
     "data": {
      "text/plain": [
       "created_dt      190700\n",
       "tweet_text      190700\n",
       "created_date    190700\n",
       "bus_date        190700\n",
       "dtype: int64"
      ]
     },
     "execution_count": 15,
     "metadata": {},
     "output_type": "execute_result"
    }
   ],
   "source": [
    "df_text_time.count()"
   ]
  },
  {
   "cell_type": "code",
   "execution_count": 16,
   "metadata": {
    "collapsed": false
   },
   "outputs": [],
   "source": [
    "#df_sentiment_count=df_all_tweets.groupby(['bus_date'], as_index=True)['sentiment'].count()\n",
    "df_text_count=df_text_time.groupby(['bus_date'], as_index=True)['tweet_text'].count()"
   ]
  },
  {
   "cell_type": "code",
   "execution_count": 17,
   "metadata": {
    "collapsed": false
   },
   "outputs": [],
   "source": [
    "df_text_count=df_text_count.reset_index()"
   ]
  },
  {
   "cell_type": "code",
   "execution_count": 18,
   "metadata": {
    "collapsed": false
   },
   "outputs": [
    {
     "name": "stdout",
     "output_type": "stream",
     "text": [
      "             bus_date  count\n",
      "0 2016-11-08 21:00:00  18144\n",
      "1 2016-11-08 22:00:00   7724\n",
      "2 2016-11-08 23:00:00  12739\n",
      "3 2016-11-09 00:00:00  24601\n",
      "4 2016-11-09 01:00:00  15116\n",
      "5 2016-11-09 02:00:00  28162\n",
      "6 2016-11-09 03:00:00  14179\n",
      "7 2016-11-09 04:00:00  28020\n",
      "8 2016-11-09 05:00:00  26659\n",
      "9 2016-11-09 06:00:00  15356\n"
     ]
    }
   ],
   "source": [
    "df_text_count.columns=['bus_date', 'count']\n",
    "print df_text_count"
   ]
  },
  {
   "cell_type": "code",
   "execution_count": 19,
   "metadata": {
    "collapsed": false
   },
   "outputs": [
    {
     "name": "stdout",
     "output_type": "stream",
     "text": [
      "count of 110821 dataframe: 18144\n",
      "count of 110822 dataframe: 7724\n",
      "count of 110823 dataframe: 12739\n",
      "count of 110900 dataframe: 24601\n",
      "count of 110901 dataframe: 15116\n",
      "count of 110902 dataframe: 28162\n",
      "count of 110903 dataframe: 14179\n",
      "count of 110904 dataframe: 28020\n",
      "count of 110905 dataframe: 26659\n",
      "count of 110906 dataframe: 15356\n"
     ]
    }
   ],
   "source": [
    "df_text_time_110821=df_text_time[df_text_time['bus_date']=='2016-11-08 21:00:00']\n",
    "df_text_time_110822=df_text_time[df_text_time['bus_date']=='2016-11-08 22:00:00']\n",
    "df_text_time_110823=df_text_time[df_text_time['bus_date']=='2016-11-08 23:00:00']\n",
    "df_text_time_110900=df_text_time[df_text_time['bus_date']=='2016-11-09 00:00:00']\n",
    "df_text_time_110901=df_text_time[df_text_time['bus_date']=='2016-11-09 01:00:00']\n",
    "df_text_time_110902=df_text_time[df_text_time['bus_date']=='2016-11-09 02:00:00']\n",
    "df_text_time_110903=df_text_time[df_text_time['bus_date']=='2016-11-09 03:00:00']\n",
    "df_text_time_110904=df_text_time[df_text_time['bus_date']=='2016-11-09 04:00:00']\n",
    "df_text_time_110905=df_text_time[df_text_time['bus_date']=='2016-11-09 05:00:00']\n",
    "df_text_time_110906=df_text_time[df_text_time['bus_date']=='2016-11-09 06:00:00']\n",
    "\n",
    "\n",
    "print 'count of 110821 dataframe:', df_text_time_110821.shape[0]\n",
    "print 'count of 110822 dataframe:', df_text_time_110822.shape[0]\n",
    "print 'count of 110823 dataframe:', df_text_time_110823.shape[0]\n",
    "print 'count of 110900 dataframe:', df_text_time_110900.shape[0]\n",
    "print 'count of 110901 dataframe:', df_text_time_110901.shape[0]\n",
    "print 'count of 110902 dataframe:', df_text_time_110902.shape[0]\n",
    "print 'count of 110903 dataframe:', df_text_time_110903.shape[0]\n",
    "print 'count of 110904 dataframe:', df_text_time_110904.shape[0]\n",
    "print 'count of 110905 dataframe:', df_text_time_110905.shape[0]\n",
    "print 'count of 110906 dataframe:', df_text_time_110906.shape[0]\n"
   ]
  },
  {
   "cell_type": "code",
   "execution_count": 88,
   "metadata": {
    "collapsed": false
   },
   "outputs": [],
   "source": [
    "import nltk\n",
    "from nltk.tokenize import RegexpTokenizer\n",
    "def process_tweet(tweet_df):\n",
    "    tweet_array=[]\n",
    "    for index, row in tweet_df.iterrows():\n",
    "        tweet_array.append(row['tweet_text'])\n",
    "    alltext=\"\"\n",
    "    for text in tweet_array:\n",
    "        try:\n",
    "            alltext=alltext+text\n",
    "        except Exception as e:\n",
    "            continue\n",
    "    tokenizer = RegexpTokenizer(r'\\w+')\n",
    "    alltext=alltext.lower()\n",
    "    #allWords = nltk.tokenize.word_tokenize(alltext)\n",
    "    allWords = tokenizer.tokenize(alltext)\n",
    "    stopwords = nltk.corpus.stopwords.words('english')\n",
    "    allWordExceptStopDist = nltk.FreqDist(w.lower() for w in allWords if w not in stopwords and not w.startswith('@')\n",
    "                                    and w != 'rt' and w !='https' and w !='trump' and not w.startswith('clinton') and w !='donald' \n",
    "                                          and w !='realdonaldtrump' and w !='co' and w !='go' and w !='m'\n",
    "                                          and w !='get'\n",
    "                                          and w !='let'\n",
    "                                          and not w.startswith('election')\n",
    "                                          and not w.startswith('vote')\n",
    "                                          and not w.startswith('hillary')\n",
    "                                          and w!='de'\n",
    "                                          and w!='5'\n",
    "                                          and w!='9'\n",
    "                                          and w!='y'\n",
    "                                          and w!='1'\n",
    "                                          and w!='en'\n",
    "                                          and w!='el'\n",
    "                                          and w!='000'\n",
    "                                          and w!='le'\n",
    "                                          and w!='que'\n",
    "                                          and w!='11'\n",
    "                                          and w!='u'\n",
    "                                          and w!='o'\n",
    "                                          and w!='president'\n",
    "                                          and w!='america'\n",
    "                                          and w!='65zbtxnmbbrt'\n",
    "                                           and w!='4'\n",
    "                                          and w!='8'\n",
    "                                          and w!='48'\n",
    "                                          and w!='n'\n",
    "                                          and w!='la'\n",
    "                                          and w!='d'\n",
    "                                          and w!='est'\n",
    "                                          and w !='re' and w !='amp' and w!='hillary') \n",
    "    mostCommon= allWordExceptStopDist.most_common(20)\n",
    "    print mostCommon\n",
    "    return mostCommon\n"
   ]
  },
  {
   "cell_type": "code",
   "execution_count": 64,
   "metadata": {
    "collapsed": false
   },
   "outputs": [
    {
     "name": "stdout",
     "output_type": "stream",
     "text": [
      "process tweet for:21:00\n",
      "[(u'today', 1627), (u'voting', 900), (u'make', 818), (u'people', 753), (u'polls', 647), (u'time', 597), (u'like', 544), (u'day', 539), (u'win', 537), (u'right', 532), (u'us', 531), (u'please', 528), (u'year', 464), (u'know', 436), (u'think', 418), (u'myvote2016', 413), (u'artist', 406), (u'away', 403), (u'cast', 397), (u'still', 393)]\n"
     ]
    }
   ],
   "source": [
    "print 'process tweet for:' + '21:00'    \n",
    "d110821=process_tweet(df_text_time_110821) \n"
   ]
  },
  {
   "cell_type": "code",
   "execution_count": 66,
   "metadata": {
    "collapsed": false
   },
   "outputs": [
    {
     "name": "stdout",
     "output_type": "stream",
     "text": [
      "process tweet for:22:00\n",
      "[(u'today', 558), (u'imwithher', 438), (u'polls', 361), (u'people', 336), (u'rihanna', 323), (u'voting', 296), (u'day', 279), (u'line', 271), (u'make', 270), (u'please', 253), (u'time', 239), (u'like', 236), (u'win', 216), (u'florida', 208), (u'think', 185), (u'maga', 183), (u'cast', 183), (u'right', 176), (u'still', 176), (u'us', 172)]\n"
     ]
    }
   ],
   "source": [
    "print 'process tweet for:' + '22:00'    \n",
    "d110822=process_tweet(df_text_time_110822) \n"
   ]
  },
  {
   "cell_type": "code",
   "execution_count": 67,
   "metadata": {
    "collapsed": false
   },
   "outputs": [
    {
     "name": "stdout",
     "output_type": "stream",
     "text": [
      "process tweet for:23:00\n",
      "[(u'polls', 629), (u'today', 626), (u'time', 598), (u'day', 582), (u'people', 526), (u'voting', 463), (u'like', 438), (u'still', 401), (u'imwithher', 380), (u'maga', 360), (u'ivoted', 348), (u'line', 346), (u'make', 346), (u'please', 339), (u'us', 335), (u'think', 323), (u'right', 317), (u'one', 307), (u'results', 307), (u'win', 306)]\n"
     ]
    }
   ],
   "source": [
    "print 'process tweet for:' + '23:00'    \n",
    "d110823=process_tweet(df_text_time_110823) \n"
   ]
  },
  {
   "cell_type": "code",
   "execution_count": 68,
   "metadata": {
    "collapsed": false
   },
   "outputs": [
    {
     "name": "stdout",
     "output_type": "stream",
     "text": [
      "process tweet for:00:00\n",
      "[(u'florida', 1146), (u'line', 1029), (u'polls', 975), (u'like', 909), (u'wins', 889), (u'4', 873), (u'day', 806), (u'make', 791), (u'people', 776), (u'time', 736), (u'today', 733), (u'voting', 724), (u'please', 721), (u'click', 709), (u'win', 700), (u'results', 688), (u'close', 684), (u'register', 671), (u'colorado', 665), (u'still', 657)]\n"
     ]
    }
   ],
   "source": [
    "print 'process tweet for:' + '00:00'    \n",
    "d110900=process_tweet(df_text_time_110900) "
   ]
  },
  {
   "cell_type": "code",
   "execution_count": 73,
   "metadata": {
    "collapsed": false
   },
   "outputs": [
    {
     "name": "stdout",
     "output_type": "stream",
     "text": [
      "process tweet for:01:00\n",
      "[(u'florida', 1914), (u'wins', 633), (u'like', 616), (u'people', 457), (u'results', 456), (u'please', 451), (u'win', 448), (u'time', 432), (u'right', 429), (u'line', 425), (u'still', 406), (u'breaking', 367), (u'us', 343), (u'day', 326), (u'today', 319), (u'make', 315), (u'n', 307), (u'voting', 299), (u'close', 295), (u'states', 288)]\n"
     ]
    }
   ],
   "source": [
    "\n",
    "print 'process tweet for:' + '01:00'    \n",
    "d110901=process_tweet(df_text_time_110901) \n"
   ]
  },
  {
   "cell_type": "code",
   "execution_count": 75,
   "metadata": {
    "collapsed": false
   },
   "outputs": [
    {
     "name": "stdout",
     "output_type": "stream",
     "text": [
      "process tweet for:02:00\n",
      "[(u'like', 1937), (u'wins', 1604), (u'florida', 1458), (u'results', 1206), (u'people', 1080), (u'still', 947), (u'right', 919), (u'win', 780), (u'watching', 694), (u'voting', 692), (u'line', 691), (u'everyone', 643), (u'la', 628), (u'please', 621), (u'lead', 588), (u'states', 577), (u'us', 575), (u'time', 567), (u'could', 562), (u'going', 555)]\n"
     ]
    }
   ],
   "source": [
    "print 'process tweet for:' + '02:00'    \n",
    "d110902=process_tweet(df_text_time_110902) \n"
   ]
  },
  {
   "cell_type": "code",
   "execution_count": 76,
   "metadata": {
    "collapsed": false
   },
   "outputs": [
    {
     "name": "stdout",
     "output_type": "stream",
     "text": [
      "process tweet for:03:00\n",
      "[(u'like', 809), (u'people', 716), (u'wins', 671), (u'right', 528), (u'florida', 519), (u'win', 515), (u'still', 443), (u'la', 367), (u'voting', 351), (u'everyone', 336), (u'white', 326), (u'us', 311), (u'watching', 311), (u'tonight', 310), (u'please', 310), (u'party', 304), (u'obama', 302), (u'think', 297), (u'results', 293), (u'even', 285)]\n"
     ]
    }
   ],
   "source": [
    "print 'process tweet for:' + '03:00'    \n",
    "d110903=process_tweet(df_text_time_110903) \n"
   ]
  },
  {
   "cell_type": "code",
   "execution_count": 79,
   "metadata": {
    "collapsed": false
   },
   "outputs": [
    {
     "name": "stdout",
     "output_type": "stream",
     "text": [
      "process tweet for:04:00\n",
      "[(u'wins', 1963), (u'people', 1568), (u'florida', 1350), (u'like', 1333), (u'win', 1276), (u'fuck', 1121), (u'projects', 976), (u'country', 950), (u'news', 893), (u'right', 865), (u'women', 813), (u'breaking', 779), (u'california', 752), (u'everyone', 694), (u'half', 693), (u'2016', 689), (u'still', 637), (u'results', 593), (u'us', 592), (u'fox', 588)]\n"
     ]
    }
   ],
   "source": [
    "print 'process tweet for:' + '04:00'    \n",
    "d110904=process_tweet(df_text_time_110904) \n"
   ]
  },
  {
   "cell_type": "code",
   "execution_count": 80,
   "metadata": {
    "collapsed": false
   },
   "outputs": [
    {
     "name": "stdout",
     "output_type": "stream",
     "text": [
      "process tweet for:05:00\n",
      "[(u'people', 2524), (u'like', 1307), (u'wins', 925), (u'white', 922), (u'country', 803), (u'women', 762), (u'right', 740), (u'didn', 734), (u'won', 719), (u'win', 675), (u'everyone', 639), (u'fuck', 632), (u'us', 630), (u'still', 619), (u'man', 612), (u'results', 584), (u'harambe', 580), (u'party', 577), (u'tonight', 576), (u'years', 569)]\n"
     ]
    }
   ],
   "source": [
    "print 'process tweet for:' + '05:00'    \n",
    "d110905=process_tweet(df_text_time_110905) \n"
   ]
  },
  {
   "cell_type": "code",
   "execution_count": 84,
   "metadata": {
    "collapsed": false
   },
   "outputs": [
    {
     "name": "stdout",
     "output_type": "stream",
     "text": [
      "process tweet for:06:00\n",
      "[(u'people', 1338), (u'won', 931), (u'white', 605), (u'racist', 562), (u'country', 555), (u'like', 545), (u'wins', 544), (u'win', 507), (u'us', 478), (u'didn', 461), (u'pennsylvania', 461), (u'every', 423), (u'women', 415), (u'breaking', 377), (u'obama', 374), (u'man', 372), (u'still', 353), (u'harambe', 335), (u'un', 334), (u'cnn', 326)]\n"
     ]
    }
   ],
   "source": [
    "print 'process tweet for:' + '06:00'    \n",
    "d110906=process_tweet(df_text_time_110906) "
   ]
  },
  {
   "cell_type": "code",
   "execution_count": 89,
   "metadata": {
    "collapsed": false
   },
   "outputs": [
    {
     "name": "stdout",
     "output_type": "stream",
     "text": [
      "process all tweets\n",
      "[(u'people', 10074), (u'like', 8674), (u'wins', 7750), (u'florida', 7656), (u'win', 5960), (u'today', 5644), (u'right', 5373), (u'still', 5032), (u'voting', 4814), (u'results', 4573), (u'us', 4539), (u'please', 4453), (u'time', 4378), (u'make', 4301), (u'country', 4085), (u'everyone', 3955), (u'day', 3854), (u'polls', 3847), (u'think', 3698), (u'line', 3696)]\n"
     ]
    }
   ],
   "source": [
    "print 'process all tweets'    \n",
    "dall=process_tweet(df_text_time) \n"
   ]
  },
  {
   "cell_type": "code",
   "execution_count": 102,
   "metadata": {
    "collapsed": false
   },
   "outputs": [
    {
     "name": "stdout",
     "output_type": "stream",
     "text": [
      " 11/08 9:00 pm , today , 1627\n",
      "11/08 9:00 pm , voting , 900\n",
      "11/08 9:00 pm , make , 818\n",
      "11/08 9:00 pm , people , 753\n",
      "11/08 9:00 pm , polls , 647\n",
      "11/08 9:00 pm , time , 597\n",
      "11/08 9:00 pm , like , 544\n",
      "11/08 9:00 pm , day , 539\n",
      "11/08 9:00 pm , win , 537\n",
      "11/08 9:00 pm , right , 532\n",
      "11/08 9:00 pm , us , 531\n",
      "11/08 9:00 pm , please , 528\n",
      "11/08 9:00 pm , year , 464\n",
      "11/08 9:00 pm , know , 436\n",
      "11/08 9:00 pm , think , 418\n",
      "11/08 9:00 pm , myvote2016 , 413\n",
      "11/08 9:00 pm , artist , 406\n",
      "11/08 9:00 pm , away , 403\n",
      "11/08 9:00 pm , cast , 397\n",
      "11/08 9:00 pm , still , 393\n",
      "11/08 10:00 pm , today , 558\n",
      "11/08 10:00 pm , imwithher , 438\n",
      "11/08 10:00 pm , polls , 361\n",
      "11/08 10:00 pm , people , 336\n",
      "11/08 10:00 pm , rihanna , 323\n",
      "11/08 10:00 pm , voting , 296\n",
      "11/08 10:00 pm , day , 279\n",
      "11/08 10:00 pm , line , 271\n",
      "11/08 10:00 pm , make , 270\n",
      "11/08 10:00 pm , please , 253\n",
      "11/08 10:00 pm , time , 239\n",
      "11/08 10:00 pm , like , 236\n",
      "11/08 10:00 pm , win , 216\n",
      "11/08 10:00 pm , florida , 208\n",
      "11/08 10:00 pm , think , 185\n",
      "11/08 10:00 pm , maga , 183\n",
      "11/08 10:00 pm , cast , 183\n",
      "11/08 10:00 pm , right , 176\n",
      "11/08 10:00 pm , still , 176\n",
      "11/08 10:00 pm , us , 172\n",
      "11/08 11:00 pm , polls , 629\n",
      "11/08 11:00 pm , today , 626\n",
      "11/08 11:00 pm , time , 598\n",
      "11/08 11:00 pm , day , 582\n",
      "11/08 11:00 pm , people , 526\n",
      "11/08 11:00 pm , voting , 463\n",
      "11/08 11:00 pm , like , 438\n",
      "11/08 11:00 pm , still , 401\n",
      "11/08 11:00 pm , imwithher , 380\n",
      "11/08 11:00 pm , maga , 360\n",
      "11/08 11:00 pm , ivoted , 348\n",
      "11/08 11:00 pm , line , 346\n",
      "11/08 11:00 pm , make , 346\n",
      "11/08 11:00 pm , please , 339\n",
      "11/08 11:00 pm , us , 335\n",
      "11/08 11:00 pm , think , 323\n",
      "11/08 11:00 pm , right , 317\n",
      "11/08 11:00 pm , one , 307\n",
      "11/08 11:00 pm , results , 307\n",
      "11/08 11:00 pm , win , 306\n",
      "11/09 00:00 am , florida , 1146\n",
      "11/09 00:00 am , line , 1029\n",
      "11/09 00:00 am , polls , 975\n",
      "11/09 00:00 am , like , 909\n",
      "11/09 00:00 am , wins , 889\n",
      "11/09 00:00 am , 4 , 873\n",
      "11/09 00:00 am , day , 806\n",
      "11/09 00:00 am , make , 791\n",
      "11/09 00:00 am , people , 776\n",
      "11/09 00:00 am , time , 736\n",
      "11/09 00:00 am , today , 733\n",
      "11/09 00:00 am , voting , 724\n",
      "11/09 00:00 am , please , 721\n",
      "11/09 00:00 am , click , 709\n",
      "11/09 00:00 am , win , 700\n",
      "11/09 00:00 am , results , 688\n",
      "11/09 00:00 am , close , 684\n",
      "11/09 00:00 am , register , 671\n",
      "11/09 00:00 am , colorado , 665\n",
      "11/09 00:00 am , still , 657\n",
      "11/09 01:00 am , florida , 1914\n",
      "11/09 01:00 am , wins , 633\n",
      "11/09 01:00 am , like , 616\n",
      "11/09 01:00 am , people , 457\n",
      "11/09 01:00 am , results , 456\n",
      "11/09 01:00 am , please , 451\n",
      "11/09 01:00 am , win , 448\n",
      "11/09 01:00 am , time , 432\n",
      "11/09 01:00 am , right , 429\n",
      "11/09 01:00 am , line , 425\n",
      "11/09 01:00 am , still , 406\n",
      "11/09 01:00 am , breaking , 367\n",
      "11/09 01:00 am , us , 343\n",
      "11/09 01:00 am , day , 326\n",
      "11/09 01:00 am , today , 319\n",
      "11/09 01:00 am , make , 315\n",
      "11/09 01:00 am , n , 307\n",
      "11/09 01:00 am , voting , 299\n",
      "11/09 01:00 am , close , 295\n",
      "11/09 01:00 am , states , 288\n",
      "11/09 02:00 am , like , 1937\n",
      "11/09 02:00 am , wins , 1604\n",
      "11/09 02:00 am , florida , 1458\n",
      "11/09 02:00 am , results , 1206\n",
      "11/09 02:00 am , people , 1080\n",
      "11/09 02:00 am , still , 947\n",
      "11/09 02:00 am , right , 919\n",
      "11/09 02:00 am , win , 780\n",
      "11/09 02:00 am , watching , 694\n",
      "11/09 02:00 am , voting , 692\n",
      "11/09 02:00 am , line , 691\n",
      "11/09 02:00 am , everyone , 643\n",
      "11/09 02:00 am , la , 628\n",
      "11/09 02:00 am , please , 621\n",
      "11/09 02:00 am , lead , 588\n",
      "11/09 02:00 am , states , 577\n",
      "11/09 02:00 am , us , 575\n",
      "11/09 02:00 am , time , 567\n",
      "11/09 02:00 am , could , 562\n",
      "11/09 02:00 am , going , 555\n",
      "11/09 03:00 am , like , 809\n",
      "11/09 03:00 am , people , 716\n",
      "11/09 03:00 am , wins , 671\n",
      "11/09 03:00 am , right , 528\n",
      "11/09 03:00 am , florida , 519\n",
      "11/09 03:00 am , win , 515\n",
      "11/09 03:00 am , still , 443\n",
      "11/09 03:00 am , la , 367\n",
      "11/09 03:00 am , voting , 351\n",
      "11/09 03:00 am , everyone , 336\n",
      "11/09 03:00 am , white , 326\n",
      "11/09 03:00 am , us , 311\n",
      "11/09 03:00 am , watching , 311\n",
      "11/09 03:00 am , tonight , 310\n",
      "11/09 03:00 am , please , 310\n",
      "11/09 03:00 am , party , 304\n",
      "11/09 03:00 am , obama , 302\n",
      "11/09 03:00 am , think , 297\n",
      "11/09 03:00 am , results , 293\n",
      "11/09 03:00 am , even , 285\n",
      "11/09 04:00 am , wins , 1963\n",
      "11/09 04:00 am , people , 1568\n",
      "11/09 04:00 am , florida , 1350\n",
      "11/09 04:00 am , like , 1333\n",
      "11/09 04:00 am , win , 1276\n",
      "11/09 04:00 am , fuck , 1121\n",
      "11/09 04:00 am , projects , 976\n",
      "11/09 04:00 am , country , 950\n",
      "11/09 04:00 am , news , 893\n",
      "11/09 04:00 am , right , 865\n",
      "11/09 04:00 am , women , 813\n",
      "11/09 04:00 am , breaking , 779\n",
      "11/09 04:00 am , california , 752\n",
      "11/09 04:00 am , everyone , 694\n",
      "11/09 04:00 am , half , 693\n",
      "11/09 04:00 am , 2016 , 689\n",
      "11/09 04:00 am , still , 637\n",
      "11/09 04:00 am , results , 593\n",
      "11/09 04:00 am , us , 592\n",
      "11/09 04:00 am , fox , 588\n",
      "11/09 05:00 am , people , 2524\n",
      "11/09 05:00 am , like , 1307\n",
      "11/09 05:00 am , wins , 925\n",
      "11/09 05:00 am , white , 922\n",
      "11/09 05:00 am , country , 803\n",
      "11/09 05:00 am , women , 762\n",
      "11/09 05:00 am , right , 740\n",
      "11/09 05:00 am , didn , 734\n",
      "11/09 05:00 am , won , 719\n",
      "11/09 05:00 am , win , 675\n",
      "11/09 05:00 am , everyone , 639\n",
      "11/09 05:00 am , fuck , 632\n",
      "11/09 05:00 am , us , 630\n",
      "11/09 05:00 am , still , 619\n",
      "11/09 05:00 am , man , 612\n",
      "11/09 05:00 am , results , 584\n",
      "11/09 05:00 am , harambe , 580\n",
      "11/09 05:00 am , party , 577\n",
      "11/09 05:00 am , tonight , 576\n",
      "11/09 05:00 am , years , 569\n",
      "11/09 06:00 am , people , 1338\n",
      "11/09 06:00 am , won , 931\n",
      "11/09 06:00 am , white , 605\n",
      "11/09 06:00 am , racist , 562\n",
      "11/09 06:00 am , country , 555\n",
      "11/09 06:00 am , like , 545\n",
      "11/09 06:00 am , wins , 544\n",
      "11/09 06:00 am , win , 507\n",
      "11/09 06:00 am , us , 478\n",
      "11/09 06:00 am , didn , 461\n",
      "11/09 06:00 am , pennsylvania , 461\n",
      "11/09 06:00 am , every , 423\n",
      "11/09 06:00 am , women , 415\n",
      "11/09 06:00 am , breaking , 377\n",
      "11/09 06:00 am , obama , 374\n",
      "11/09 06:00 am , man , 372\n",
      "11/09 06:00 am , still , 353\n",
      "11/09 06:00 am , harambe , 335\n",
      "11/09 06:00 am , un , 334\n",
      "11/09 06:00 am , cnn , 326\n"
     ]
    }
   ],
   "source": [
    "for item in d110821:\n",
    "    print '11/08 9:00 pm',',',item[0],',',item[1]\n",
    "for item in d110822:\n",
    "    print '11/08 10:00 pm',',',item[0],',',item[1]\n",
    "for item in d110823:\n",
    "    print '11/08 11:00 pm',',',item[0],',',item[1]  \n",
    "for item in d110900:\n",
    "    print '11/09 00:00 am',',',item[0],',',item[1]\n",
    "for item in d110901:\n",
    "    print '11/09 01:00 am',',',item[0],',',item[1]\n",
    "for item in d110902:\n",
    "    print '11/09 02:00 am',',',item[0],',',item[1]\n",
    "for item in d110903:\n",
    "    print '11/09 03:00 am',',',item[0],',',item[1]\n",
    "for item in d110904:\n",
    "    print '11/09 04:00 am',',',item[0],',',item[1]\n",
    "for item in d110905:\n",
    "    print '11/09 05:00 am',',',item[0],',',item[1]\n",
    "for item in d110906:\n",
    "    print '11/09 06:00 am',',',item[0],',',item[1]\n",
    "    "
   ]
  }
 ],
 "metadata": {
  "kernelspec": {
   "display_name": "Python 2",
   "language": "python",
   "name": "python2"
  },
  "language_info": {
   "codemirror_mode": {
    "name": "ipython",
    "version": 2
   },
   "file_extension": ".py",
   "mimetype": "text/x-python",
   "name": "python",
   "nbconvert_exporter": "python",
   "pygments_lexer": "ipython2",
   "version": "2.7.9"
  }
 },
 "nbformat": 4,
 "nbformat_minor": 0
}
